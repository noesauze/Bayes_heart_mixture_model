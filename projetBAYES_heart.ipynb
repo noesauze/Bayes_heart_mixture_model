{
 "cells": [
  {
   "cell_type": "code",
   "execution_count": 3,
   "metadata": {},
   "outputs": [],
   "source": [
    "import numpy as np\n",
    "import scipy.stats as stats\n",
    "import matplotlib.pyplot as plt"
   ]
  },
  {
   "cell_type": "code",
   "execution_count": 5,
   "metadata": {},
   "outputs": [],
   "source": [
    "# Fonction logit et inverse logit\n",
    "def logit(x):\n",
    "    return np.log(x / (1 - x))\n",
    "\n",
    "def inv_logit(x):\n",
    "    return 1 / (1 + np.exp(-x))"
   ]
  },
  {
   "cell_type": "code",
   "execution_count": null,
   "metadata": {},
   "outputs": [],
   "source": [
    "import numpy as np\n",
    "import scipy.stats as stats\n",
    "import matplotlib.pyplot as plt\n",
    "\n",
    "# Données\n",
    "x = np.array([6, 9, 17, 22, 7, 5, 5, 14, 9, 7, 9, 51])  # PVCs avant traitement\n",
    "y = np.array([5, 2, 0, 0, 2, 1, 0, 0, 0, 0, 13, 0])   # PVCs après traitement\n",
    "t = x + y                        # Total des observations\n",
    "\n",
    "# Hyperparamètres des lois a priori\n",
    "mu_alpha, sigma_alpha = 0, 2  # Pour logit(p)\n",
    "mu_delta, sigma_delta = 0, 2  # Pour logit(theta)\n",
    "\n",
    "# Initialisation des chaînes MCMC\n",
    "n_iter = 5000\n",
    "alpha_chain = np.zeros(n_iter)\n",
    "delta_chain = np.zeros(n_iter)\n",
    "p_chain = np.zeros(n_iter)\n",
    "theta_chain = np.zeros(n_iter)\n",
    "\n",
    "# Valeurs initiales\n",
    "alpha_chain[0] = np.random.normal(mu_alpha, sigma_alpha)\n",
    "delta_chain[0] = np.random.normal(mu_delta, sigma_delta)\n",
    "\n",
    "# Fonction logit et inverse logit\n",
    "def logit(x):\n",
    "    return np.log(x / (1 - x))\n",
    "\n",
    "def inv_logit(x):\n",
    "    return 1 / (1 + np.exp(-x))\n",
    "\n",
    "# Algorithme Metropolis-Hastings\n",
    "for i in range(1, n_iter):\n",
    "    # Propositions\n",
    "    alpha_prop = np.random.normal(alpha_chain[i-1], 0.1)\n",
    "    delta_prop = np.random.normal(delta_chain[i-1], 0.1)\n",
    "    \n",
    "    # Transformations\n",
    "    p_prop = inv_logit(alpha_prop)\n",
    "    theta_prop = inv_logit(delta_prop)\n",
    "    \n",
    "    # Calcul de la vraisemblance\n",
    "    likelihood_current = np.prod(stats.binom.pmf(y, t, inv_logit(alpha_chain[i-1])))\n",
    "    likelihood_proposed = np.prod(stats.binom.pmf(y, t, p_prop))\n",
    "    \n",
    "    # Calcul des a priori\n",
    "    prior_current = stats.norm.pdf(alpha_chain[i-1], mu_alpha, sigma_alpha) * stats.norm.pdf(delta_chain[i-1], mu_delta, sigma_delta)\n",
    "    prior_proposed = stats.norm.pdf(alpha_prop, mu_alpha, sigma_alpha) * stats.norm.pdf(delta_prop, mu_delta, sigma_delta)\n",
    "    \n",
    "    # Ratio d'acceptation\n",
    "    acceptance_ratio = (likelihood_proposed * prior_proposed) / (likelihood_current * prior_current)\n",
    "    \n",
    "    # Acceptation ou rejet\n",
    "    if np.random.rand() < min(1, acceptance_ratio):\n",
    "        alpha_chain[i] = alpha_prop\n",
    "        delta_chain[i] = delta_prop\n",
    "    else:\n",
    "        alpha_chain[i] = alpha_chain[i-1]\n",
    "        delta_chain[i] = delta_chain[i-1]\n",
    "    \n",
    "    p_chain[i] = inv_logit(alpha_chain[i])\n",
    "    theta_chain[i] = inv_logit(delta_chain[i])\n",
    "\n",
    "# Tracé des distributions a posteriori\n",
    "plt.figure(figsize=(10, 5))\n",
    "plt.subplot(1, 2, 1)\n",
    "plt.hist(p_chain, bins=30, density=True)\n",
    "plt.title(\"Distribution a posteriori de p\")\n",
    "\n",
    "plt.subplot(1, 2, 2)\n",
    "plt.hist(theta_chain, bins=30, density=True)\n",
    "plt.title(\"Distribution a posteriori de θ\")\n",
    "plt.show()"
   ]
  },
  {
   "cell_type": "code",
   "execution_count": 6,
   "metadata": {},
   "outputs": [],
   "source": [
    "# Données\n",
    "x = np.array([6, 9, 17, 22, 7, 5, 5, 14, 9, 7, 9, 51])  # PVCs avant traitement\n",
    "y = np.array([5, 2, 0, 0, 2, 1, 0, 0, 0, 0, 13, 0])   # PVCs après traitement\n",
    "t = x + y                        # Total des observations"
   ]
  },
  {
   "cell_type": "code",
   "execution_count": null,
   "metadata": {},
   "outputs": [],
   "source": [
    "def heart_mixture_sampler(n_iter,x,y,t,) : \n",
    "    # Données\n",
    "    n_individual = len(x)\n",
    "    \n",
    "    # Variance des noyaux de propositions\n",
    "    proposal_sd_alpha = 0.5\n",
    "    proposal_sd_delta = 0.5\n",
    "\n",
    "    # Hyperparamètres des lois a priori\n",
    "    prior_mu_alpha, prior_sigma_alpha = 0, 2  # Pour logit(p)\n",
    "    prior_mu_delta, prior_sigma_delta = 0, 2  # Pour logit(theta)\n",
    "\n",
    "    # Initialisation des chaînes MCMC\n",
    "    alpha_chain = np.zeros(n_iter)\n",
    "    delta_chain = np.zeros(n_iter)\n",
    "    beta_chain = np.zeros(n_iter)\n",
    "    p_chain = np.zeros(n_iter)\n",
    "    theta_chain = np.zeros(n_iter)\n",
    "    health_status = (y == 0).astype(int) ## 1 if healthy, 0 if not\n",
    "    \n",
    "    beta_chain[0] = np.exp(alpha_chain[0])\n",
    "    p_chain[0] = beta_chain[0] / (1 + beta_chain[0])\n",
    "    theta_chain[0] = inv_logit(delta_chain[0])\n",
    "    \n",
    "    # On mets à jours les paramètres\n",
    "    for t in range(1,n_iter) :\n",
    "        # Mise à jour de alpha via Metropolis-Hastings\n",
    "        alpha_prop = alpha_chain[t-1] + np.random.normal(0, proposal_sd_alpha) ### A revoir comment on choisit la variance\n",
    "        acceptance_ratio = np.exp()\n",
    "    \n",
    "    \n",
    "    \n"
   ]
  },
  {
   "cell_type": "code",
   "execution_count": null,
   "metadata": {},
   "outputs": [
    {
     "data": {
      "text/plain": [
       "array([0, 0, 1, 1, 0, 0, 1, 1, 1, 1, 0, 1])"
      ]
     },
     "execution_count": 8,
     "metadata": {},
     "output_type": "execute_result"
    }
   ],
   "source": []
  }
 ],
 "metadata": {
  "kernelspec": {
   "display_name": "base",
   "language": "python",
   "name": "python3"
  },
  "language_info": {
   "codemirror_mode": {
    "name": "ipython",
    "version": 3
   },
   "file_extension": ".py",
   "mimetype": "text/x-python",
   "name": "python",
   "nbconvert_exporter": "python",
   "pygments_lexer": "ipython3",
   "version": "3.11.9"
  }
 },
 "nbformat": 4,
 "nbformat_minor": 2
}
